{
 "cells": [
  {
   "cell_type": "code",
   "execution_count": null,
   "metadata": {},
   "outputs": [
    {
     "name": "stdout",
     "output_type": "stream",
     "text": [
      "\n",
      "         \n",
      "rock, paper, or scissor?     rock\n",
      "\n",
      "        \n",
      "        \n",
      "you say rock, your adversary says scissor\n",
      "\n",
      "         \n",
      "you win this round\n",
      "\n",
      "        \n",
      "        \n",
      "the score is:\n",
      "you: 1\n",
      "adversary: 0\n",
      "\n",
      "         \n",
      "rock, paper, or scissor?     jjjp\n",
      "make a proper choice!\n",
      "\n",
      "         \n",
      "rock, paper, or scissor?     ijpij\n",
      "make a proper choice!\n",
      "\n",
      "         \n",
      "rock, paper, or scissor?     rock\n",
      "\n",
      "        \n",
      "        \n",
      "you say rock, your adversary says scissor\n",
      "\n",
      "         \n",
      "you win this round\n",
      "\n",
      "        \n",
      "        \n",
      "the score is:\n",
      "you: 2\n",
      "adversary: 0\n",
      "\n",
      "         \n"
     ]
    }
   ],
   "source": [
    "import random as rand\n",
    "import time\n",
    "\n",
    "def rockpaperscissor():\n",
    "    play_score = 0\n",
    "    adv_score = 0\n",
    "    target=3\n",
    "    choice = (\"rock\",\"paper\",\"scissor\")\n",
    "    \n",
    "    while play_score < target and adv_score < target:\n",
    "        print(\"\"\"\n",
    "         \"\"\")\n",
    "        play_choice = input('rock, paper, or scissor?     ')\n",
    "        adv_choice = rand.choice(choice)\n",
    "        if play_choice not in choice:\n",
    "            print(\"make a proper choice!\")\n",
    "            continue\n",
    "        time.sleep(1)\n",
    "        print(\"\"\"\n",
    "        \n",
    "        \"\"\")\n",
    "        print(f\"\"\"you say {play_choice.lower()}, your adversary says {adv_choice.lower()}\"\"\")\n",
    "        print(\"\"\"\n",
    "         \"\"\")\n",
    "        if play_choice.lower() == adv_choice:\n",
    "            print(\"This round is even!\")\n",
    "        elif play_choice.lower() == \"rock\" and adv_choice == \"paper\":\n",
    "            print(\"you lose this round\")\n",
    "            adv_score += 1\n",
    "        elif play_choice.lower() == \"paper\" and adv_choice == \"scissor\":\n",
    "            print(\"you lose this round\")\n",
    "            adv_score += 1\n",
    "        elif play_choice.lower() == \"scissor\" and adv_choice == \"rock\":\n",
    "            print(\"you lose this round\")\n",
    "            adv_score += 1\n",
    "        else:\n",
    "            print(\"you win this round\")\n",
    "            play_score += 1\n",
    "        time.sleep(2)\n",
    "        print(\"\"\"\n",
    "        \n",
    "        \"\"\")\n",
    "        print(f\"\"\"the score is:\n",
    "you: {play_score}\n",
    "adversary: {adv_score}\"\"\")\n",
    "    time.sleep(1)\n",
    "    print(\"\"\"\n",
    "        \n",
    "        \"\"\")\n",
    "    \n",
    "    if play_score > adv_score:\n",
    "        print(\"you win!!\")\n",
    "    else:\n",
    "        print(\"you lose!!\")\n",
    "    \n",
    "    print(\"Want to try again?\")\n",
    "    try_again = input(\"Y/N?\")\n",
    "    if try_again.lower() in (\"y\",\"yes\"):\n",
    "        rockpaperscissor()\n",
    "    else:\n",
    "        print(\"Goodbye!\")\n",
    "        \n",
    "    \n",
    "rockpaperscissor()\n"
   ]
  },
  {
   "cell_type": "code",
   "execution_count": null,
   "metadata": {},
   "outputs": [],
   "source": []
  }
 ],
 "metadata": {
  "kernelspec": {
   "display_name": "Python 3",
   "language": "python",
   "name": "python3"
  },
  "language_info": {
   "codemirror_mode": {
    "name": "ipython",
    "version": 3
   },
   "file_extension": ".py",
   "mimetype": "text/x-python",
   "name": "python",
   "nbconvert_exporter": "python",
   "pygments_lexer": "ipython3",
   "version": "3.7.3"
  },
  "toc": {
   "base_numbering": 1,
   "nav_menu": {},
   "number_sections": true,
   "sideBar": true,
   "skip_h1_title": false,
   "title_cell": "Table of Contents",
   "title_sidebar": "Contents",
   "toc_cell": false,
   "toc_position": {},
   "toc_section_display": true,
   "toc_window_display": false
  },
  "varInspector": {
   "cols": {
    "lenName": 16,
    "lenType": 16,
    "lenVar": 40
   },
   "kernels_config": {
    "python": {
     "delete_cmd_postfix": "",
     "delete_cmd_prefix": "del ",
     "library": "var_list.py",
     "varRefreshCmd": "print(var_dic_list())"
    },
    "r": {
     "delete_cmd_postfix": ") ",
     "delete_cmd_prefix": "rm(",
     "library": "var_list.r",
     "varRefreshCmd": "cat(var_dic_list()) "
    }
   },
   "types_to_exclude": [
    "module",
    "function",
    "builtin_function_or_method",
    "instance",
    "_Feature"
   ],
   "window_display": false
  }
 },
 "nbformat": 4,
 "nbformat_minor": 2
}
